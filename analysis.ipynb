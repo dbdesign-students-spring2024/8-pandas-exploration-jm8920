{
 "cells": [
  {
   "cell_type": "markdown",
   "metadata": {},
   "source": [
    "# pandas exploration\n",
    "In this assignment you will select a data set and do some munging and analysis of it using `pandas`, Jupyter Notebooks, and associated Python-centric data science tools."
   ]
  },
  {
   "attachments": {},
   "cell_type": "markdown",
   "metadata": {},
   "source": [
    "## Set up environment"
   ]
  },
  {
   "attachments": {},
   "cell_type": "markdown",
   "metadata": {},
   "source": [
    "The following lines ensure that `numpy` and `pandas` are installed in the notebook environment.  Depending on your system, this may not be necessary and may be removed."
   ]
  },
  {
   "cell_type": "code",
   "execution_count": 2,
   "metadata": {},
   "outputs": [
    {
     "name": "stdout",
     "output_type": "stream",
     "text": [
      "Defaulting to user installation because normal site-packages is not writeable\n",
      "Requirement already satisfied: numpy in /Users/foobarstein/.local/lib/python3.8/site-packages (1.22.4)\n",
      "Defaulting to user installation because normal site-packages is not writeable\n",
      "Requirement already satisfied: pandas in /Users/foobarstein/.local/lib/python3.8/site-packages (1.2.4)\n",
      "Requirement already satisfied: python-dateutil>=2.7.3 in /opt/anaconda3/lib/python3.8/site-packages (from pandas) (2.8.1)\n",
      "Requirement already satisfied: numpy>=1.16.5 in /Users/foobarstein/.local/lib/python3.8/site-packages (from pandas) (1.22.4)\n",
      "Requirement already satisfied: pytz>=2017.3 in /Users/foobarstein/.local/lib/python3.8/site-packages (from pandas) (2021.1)\n",
      "Requirement already satisfied: six>=1.5 in /Users/foobarstein/.local/lib/python3.8/site-packages (from python-dateutil>=2.7.3->pandas) (1.14.0)\n"
     ]
    }
   ],
   "source": [
    "!pip install numpy\n",
    "!pip install pandas"
   ]
  },
  {
   "cell_type": "markdown",
   "metadata": {},
   "source": [
    "Import the core data science libraries:"
   ]
  },
  {
   "cell_type": "code",
   "execution_count": 27,
   "metadata": {},
   "outputs": [],
   "source": [
    "%matplotlib inline\n",
    "import matplotlib.pyplot as plt\n",
    "import numpy as np\n",
    "import pandas as pd"
   ]
  },
  {
   "cell_type": "markdown",
   "metadata": {},
   "source": [
    "## Import the raw data\n",
    "In this section, you will import the raw data into a `pandas` DataFrame."
   ]
  },
  {
   "cell_type": "code",
   "execution_count": 97,
   "metadata": {},
   "outputs": [],
   "source": [
    "df = pd.read_csv('./data/rawdata.csv')"
   ]
  },
  {
   "cell_type": "markdown",
   "metadata": {},
   "source": [
    "## Data inspection\n",
    "In this section, you will show enough of your data for a viewer to get a general sense of how the data is structured and any unique features of it.  Complete each of the indicated tasks in a Code cell, making sure to include a Markdown cell above each Code cell that explains what is being shown by the code.  \n",
    "- Show 5 rows, selected at random, from the data set.\n",
    "- Show each of the column names and their data types.\n",
    "- Show any unique features of your chosen data set.\n",
    "\n",
    "Feel free to add as many additional cells as you need to help explain the raw data."
   ]
  },
  {
   "cell_type": "code",
   "execution_count": 98,
   "metadata": {},
   "outputs": [
    {
     "data": {
      "text/html": [
       "<div>\n",
       "<style scoped>\n",
       "    .dataframe tbody tr th:only-of-type {\n",
       "        vertical-align: middle;\n",
       "    }\n",
       "\n",
       "    .dataframe tbody tr th {\n",
       "        vertical-align: top;\n",
       "    }\n",
       "\n",
       "    .dataframe thead th {\n",
       "        text-align: right;\n",
       "    }\n",
       "</style>\n",
       "<table border=\"1\" class=\"dataframe\">\n",
       "  <thead>\n",
       "    <tr style=\"text-align: right;\">\n",
       "      <th></th>\n",
       "      <th>Borough</th>\n",
       "      <th>Borough/Citywide Office (B/CO)</th>\n",
       "      <th>District</th>\n",
       "      <th>School</th>\n",
       "      <th>School Name</th>\n",
       "      <th>School Category</th>\n",
       "      <th>Program</th>\n",
       "      <th>Language</th>\n",
       "      <th>Language (Translated)</th>\n",
       "      <th>General/Special Education</th>\n",
       "      <th>Special Education Model</th>\n",
       "    </tr>\n",
       "  </thead>\n",
       "  <tbody>\n",
       "    <tr>\n",
       "      <th>42</th>\n",
       "      <td>Manhattan</td>\n",
       "      <td>Manhattan</td>\n",
       "      <td>4</td>\n",
       "      <td>04M206</td>\n",
       "      <td>P.S. 206 Jose Celso Barbosa</td>\n",
       "      <td>K-8</td>\n",
       "      <td>Dual Language</td>\n",
       "      <td>Spanish</td>\n",
       "      <td>Español</td>\n",
       "      <td>General Education</td>\n",
       "      <td>Not Applicable</td>\n",
       "    </tr>\n",
       "    <tr>\n",
       "      <th>44</th>\n",
       "      <td>Manhattan</td>\n",
       "      <td>Manhattan</td>\n",
       "      <td>4</td>\n",
       "      <td>04M372</td>\n",
       "      <td>Esperanza Preparatory Academy</td>\n",
       "      <td>Secondary School</td>\n",
       "      <td>Dual Language</td>\n",
       "      <td>Spanish</td>\n",
       "      <td>Español</td>\n",
       "      <td>General Education</td>\n",
       "      <td>Not Applicable</td>\n",
       "    </tr>\n",
       "    <tr>\n",
       "      <th>474</th>\n",
       "      <td>Staten Island</td>\n",
       "      <td>Staten Island</td>\n",
       "      <td>31</td>\n",
       "      <td>31R022</td>\n",
       "      <td>P.S. 022 Graniteville</td>\n",
       "      <td>Elementary</td>\n",
       "      <td>Dual Language</td>\n",
       "      <td>Spanish</td>\n",
       "      <td>Español</td>\n",
       "      <td>General Education</td>\n",
       "      <td>Not Applicable</td>\n",
       "    </tr>\n",
       "    <tr>\n",
       "      <th>81</th>\n",
       "      <td>Manhattan</td>\n",
       "      <td>Manhattan</td>\n",
       "      <td>6</td>\n",
       "      <td>06M311</td>\n",
       "      <td>Amistad Dual Language School</td>\n",
       "      <td>K-8</td>\n",
       "      <td>Dual Language</td>\n",
       "      <td>Spanish</td>\n",
       "      <td>Español</td>\n",
       "      <td>General Education</td>\n",
       "      <td>Not Applicable</td>\n",
       "    </tr>\n",
       "    <tr>\n",
       "      <th>130</th>\n",
       "      <td>Bronx</td>\n",
       "      <td>Bronx</td>\n",
       "      <td>9</td>\n",
       "      <td>09X028</td>\n",
       "      <td>P.S. 028 Mount Hope</td>\n",
       "      <td>Elementary</td>\n",
       "      <td>Transitional Bilingual Education</td>\n",
       "      <td>Spanish</td>\n",
       "      <td>Español</td>\n",
       "      <td>General Education</td>\n",
       "      <td>Not Applicable</td>\n",
       "    </tr>\n",
       "  </tbody>\n",
       "</table>\n",
       "</div>"
      ],
      "text/plain": [
       "           Borough Borough/Citywide Office (B/CO)  District  School  \\\n",
       "42       Manhattan                      Manhattan         4  04M206   \n",
       "44       Manhattan                      Manhattan         4  04M372   \n",
       "474  Staten Island                  Staten Island        31  31R022   \n",
       "81       Manhattan                      Manhattan         6  06M311   \n",
       "130          Bronx                          Bronx         9  09X028   \n",
       "\n",
       "                       School Name   School Category  \\\n",
       "42     P.S. 206 Jose Celso Barbosa               K-8   \n",
       "44   Esperanza Preparatory Academy  Secondary School   \n",
       "474          P.S. 022 Graniteville        Elementary   \n",
       "81    Amistad Dual Language School               K-8   \n",
       "130            P.S. 028 Mount Hope        Elementary   \n",
       "\n",
       "                              Program Language Language (Translated)  \\\n",
       "42                      Dual Language  Spanish               Español   \n",
       "44                      Dual Language  Spanish               Español   \n",
       "474                     Dual Language  Spanish               Español   \n",
       "81                      Dual Language  Spanish               Español   \n",
       "130  Transitional Bilingual Education  Spanish               Español   \n",
       "\n",
       "    General/Special Education Special Education Model  \n",
       "42          General Education          Not Applicable  \n",
       "44          General Education          Not Applicable  \n",
       "474         General Education          Not Applicable  \n",
       "81          General Education          Not Applicable  \n",
       "130         General Education          Not Applicable  "
      ]
     },
     "execution_count": 98,
     "metadata": {},
     "output_type": "execute_result"
    }
   ],
   "source": [
    "# Showing 5 random rows\n",
    "df.sample(5)"
   ]
  },
  {
   "cell_type": "code",
   "execution_count": 99,
   "metadata": {},
   "outputs": [
    {
     "data": {
      "text/plain": [
       "Borough                           object\n",
       "Borough/Citywide Office (B/CO)    object\n",
       "District                           int64\n",
       "School                            object\n",
       "School Name                       object\n",
       "School Category                   object\n",
       "Program                           object\n",
       "Language                          object\n",
       "Language (Translated)             object\n",
       "General/Special Education         object\n",
       "Special Education Model           object\n",
       "dtype: object"
      ]
     },
     "execution_count": 99,
     "metadata": {},
     "output_type": "execute_result"
    }
   ],
   "source": [
    "# Show each of the column names and their data types\n",
    "df.dtypes"
   ]
  },
  {
   "cell_type": "code",
   "execution_count": 95,
   "metadata": {},
   "outputs": [
    {
     "data": {
      "text/plain": [
       "Borough                             5\n",
       "Borough/Citywide Office (B/CO)      9\n",
       "District                           32\n",
       "School                            376\n",
       "School Name                       376\n",
       "School Category                     8\n",
       "Program                             2\n",
       "Language                           12\n",
       "General/Special Education           2\n",
       "Special Education Model             7\n",
       "dtype: int64"
      ]
     },
     "execution_count": 95,
     "metadata": {},
     "output_type": "execute_result"
    }
   ],
   "source": [
    "# Show any unique features of your chosen data set\n",
    "df.nunique()"
   ]
  },
  {
   "cell_type": "markdown",
   "metadata": {},
   "source": [
    "## Data munging\n",
    "Place your **data munging** code and documentation within this section.  \n",
    "- Keep each of your Code cells short and focused on a single task.  \n",
    "- Include a Markdown cell above each code cell that describes what task the code within the code cell is performing.\n",
    "- Make as many code cells as you need to complete the munging - a few have been created for you to start with.\n",
    "- Display 5 sample rows of the modified data after each transformation so a viewer can see how the data has changed.\n",
    "\n",
    "**Note**: If you believe that your data set does not require any munging, please explain in detail.  Create Markdown cells that explain your thinking and create Code cells that show any specific structures of the data you refer to in your explanation."
   ]
  },
  {
   "cell_type": "markdown",
   "metadata": {},
   "source": [
    "I've checked that there are no missing values and duplicate rows, so no additional cleaning is needed in this regard. I decide to drop some rrrelevant columns for better data analysis and standardize categorical data to achieve case consistency.\n",
    "### Standardize Categorical Data\n",
    "In the \"School Names\" and \"Borough/Citywide Office (B/CO)\" columns, there are word case inconsistencies, so I want to ensure consistent casing to avoid confusion during analysis. Capitalize the first letter of each word in these two columns."
   ]
  },
  {
   "cell_type": "code",
   "execution_count": 100,
   "metadata": {},
   "outputs": [
    {
     "data": {
      "text/html": [
       "<div>\n",
       "<style scoped>\n",
       "    .dataframe tbody tr th:only-of-type {\n",
       "        vertical-align: middle;\n",
       "    }\n",
       "\n",
       "    .dataframe tbody tr th {\n",
       "        vertical-align: top;\n",
       "    }\n",
       "\n",
       "    .dataframe thead th {\n",
       "        text-align: right;\n",
       "    }\n",
       "</style>\n",
       "<table border=\"1\" class=\"dataframe\">\n",
       "  <thead>\n",
       "    <tr style=\"text-align: right;\">\n",
       "      <th></th>\n",
       "      <th>Borough</th>\n",
       "      <th>Borough/Citywide Office (B/CO)</th>\n",
       "      <th>District</th>\n",
       "      <th>School</th>\n",
       "      <th>School Name</th>\n",
       "      <th>School Category</th>\n",
       "      <th>Program</th>\n",
       "      <th>Language</th>\n",
       "      <th>Language (Translated)</th>\n",
       "      <th>General/Special Education</th>\n",
       "      <th>Special Education Model</th>\n",
       "    </tr>\n",
       "  </thead>\n",
       "  <tbody>\n",
       "    <tr>\n",
       "      <th>284</th>\n",
       "      <td>Brooklyn</td>\n",
       "      <td>Brooklyn North</td>\n",
       "      <td>15</td>\n",
       "      <td>15K896</td>\n",
       "      <td>The School Of Creativity And Innovation</td>\n",
       "      <td>Elementary</td>\n",
       "      <td>Dual Language</td>\n",
       "      <td>Chinese</td>\n",
       "      <td>中文</td>\n",
       "      <td>General Education</td>\n",
       "      <td>Not Applicable</td>\n",
       "    </tr>\n",
       "    <tr>\n",
       "      <th>524</th>\n",
       "      <td>Bronx</td>\n",
       "      <td>District 75</td>\n",
       "      <td>75</td>\n",
       "      <td>75X168</td>\n",
       "      <td>P.S. 168</td>\n",
       "      <td>K-12 all grades</td>\n",
       "      <td>Transitional Bilingual Education</td>\n",
       "      <td>Spanish</td>\n",
       "      <td>Español</td>\n",
       "      <td>Special Education</td>\n",
       "      <td>6:1:1</td>\n",
       "    </tr>\n",
       "    <tr>\n",
       "      <th>454</th>\n",
       "      <td>Queens</td>\n",
       "      <td>Queens North</td>\n",
       "      <td>30</td>\n",
       "      <td>30Q166</td>\n",
       "      <td>P.S. 166 Henry Gradstein</td>\n",
       "      <td>Elementary</td>\n",
       "      <td>Dual Language</td>\n",
       "      <td>Spanish</td>\n",
       "      <td>Español</td>\n",
       "      <td>General Education</td>\n",
       "      <td>Not Applicable</td>\n",
       "    </tr>\n",
       "    <tr>\n",
       "      <th>531</th>\n",
       "      <td>Bronx</td>\n",
       "      <td>District 75</td>\n",
       "      <td>75</td>\n",
       "      <td>75X721</td>\n",
       "      <td>P.S. X721 - Stephen Mcsweeney School</td>\n",
       "      <td>High school</td>\n",
       "      <td>Transitional Bilingual Education</td>\n",
       "      <td>Spanish</td>\n",
       "      <td>Español</td>\n",
       "      <td>Special Education</td>\n",
       "      <td>6:1:1</td>\n",
       "    </tr>\n",
       "    <tr>\n",
       "      <th>96</th>\n",
       "      <td>Manhattan</td>\n",
       "      <td>Manhattan</td>\n",
       "      <td>6</td>\n",
       "      <td>06M462</td>\n",
       "      <td>The College Academy</td>\n",
       "      <td>High school</td>\n",
       "      <td>Dual Language</td>\n",
       "      <td>Spanish</td>\n",
       "      <td>Español</td>\n",
       "      <td>General Education</td>\n",
       "      <td>Not Applicable</td>\n",
       "    </tr>\n",
       "  </tbody>\n",
       "</table>\n",
       "</div>"
      ],
      "text/plain": [
       "       Borough Borough/Citywide Office (B/CO)  District  School  \\\n",
       "284   Brooklyn                 Brooklyn North        15  15K896   \n",
       "524      Bronx                    District 75        75  75X168   \n",
       "454     Queens                   Queens North        30  30Q166   \n",
       "531      Bronx                    District 75        75  75X721   \n",
       "96   Manhattan                      Manhattan         6  06M462   \n",
       "\n",
       "                                 School Name  School Category  \\\n",
       "284  The School Of Creativity And Innovation       Elementary   \n",
       "524                                 P.S. 168  K-12 all grades   \n",
       "454                 P.S. 166 Henry Gradstein       Elementary   \n",
       "531     P.S. X721 - Stephen Mcsweeney School      High school   \n",
       "96                       The College Academy      High school   \n",
       "\n",
       "                              Program Language Language (Translated)  \\\n",
       "284                     Dual Language  Chinese                    中文   \n",
       "524  Transitional Bilingual Education  Spanish               Español   \n",
       "454                     Dual Language  Spanish               Español   \n",
       "531  Transitional Bilingual Education  Spanish               Español   \n",
       "96                      Dual Language  Spanish               Español   \n",
       "\n",
       "    General/Special Education Special Education Model  \n",
       "284         General Education          Not Applicable  \n",
       "524         Special Education                   6:1:1  \n",
       "454         General Education          Not Applicable  \n",
       "531         Special Education                   6:1:1  \n",
       "96          General Education          Not Applicable  "
      ]
     },
     "execution_count": 100,
     "metadata": {},
     "output_type": "execute_result"
    }
   ],
   "source": [
    "df['School Name'] = df['School Name'].str.title()\n",
    "df['Borough/Citywide Office (B/CO)'] = df['Borough/Citywide Office (B/CO)'].str.title()\n",
    "\n",
    "# Displaying 5 sample rows after standardization\n",
    "df.sample(5)"
   ]
  },
  {
   "cell_type": "markdown",
   "metadata": {},
   "source": [
    "Ensure consistent casing."
   ]
  },
  {
   "cell_type": "code",
   "execution_count": 101,
   "metadata": {},
   "outputs": [
    {
     "data": {
      "text/html": [
       "<div>\n",
       "<style scoped>\n",
       "    .dataframe tbody tr th:only-of-type {\n",
       "        vertical-align: middle;\n",
       "    }\n",
       "\n",
       "    .dataframe tbody tr th {\n",
       "        vertical-align: top;\n",
       "    }\n",
       "\n",
       "    .dataframe thead th {\n",
       "        text-align: right;\n",
       "    }\n",
       "</style>\n",
       "<table border=\"1\" class=\"dataframe\">\n",
       "  <thead>\n",
       "    <tr style=\"text-align: right;\">\n",
       "      <th></th>\n",
       "      <th>Borough</th>\n",
       "      <th>Borough/Citywide Office (B/CO)</th>\n",
       "      <th>District</th>\n",
       "      <th>School</th>\n",
       "      <th>School Name</th>\n",
       "      <th>School Category</th>\n",
       "      <th>Program</th>\n",
       "      <th>Language</th>\n",
       "      <th>Language (Translated)</th>\n",
       "      <th>General/Special Education</th>\n",
       "      <th>Special Education Model</th>\n",
       "    </tr>\n",
       "  </thead>\n",
       "  <tbody>\n",
       "    <tr>\n",
       "      <th>237</th>\n",
       "      <td>Brooklyn</td>\n",
       "      <td>Brooklyn North</td>\n",
       "      <td>14</td>\n",
       "      <td>14K050</td>\n",
       "      <td>J.H.S. 050 John D. Wells</td>\n",
       "      <td>Junior High-Intermediate-Middle</td>\n",
       "      <td>Dual Language</td>\n",
       "      <td>Spanish</td>\n",
       "      <td>Español</td>\n",
       "      <td>General Education</td>\n",
       "      <td>Not Applicable</td>\n",
       "    </tr>\n",
       "    <tr>\n",
       "      <th>221</th>\n",
       "      <td>Bronx</td>\n",
       "      <td>Bronx</td>\n",
       "      <td>12</td>\n",
       "      <td>12X458</td>\n",
       "      <td>Samara Community School</td>\n",
       "      <td>Elementary</td>\n",
       "      <td>Dual Language</td>\n",
       "      <td>Spanish</td>\n",
       "      <td>Español</td>\n",
       "      <td>Special Education</td>\n",
       "      <td>ICT</td>\n",
       "    </tr>\n",
       "    <tr>\n",
       "      <th>109</th>\n",
       "      <td>Bronx</td>\n",
       "      <td>Bronx</td>\n",
       "      <td>7</td>\n",
       "      <td>07X018</td>\n",
       "      <td>P.S. 018 John Peter Zenger</td>\n",
       "      <td>Elementary</td>\n",
       "      <td>Dual Language</td>\n",
       "      <td>Spanish</td>\n",
       "      <td>Español</td>\n",
       "      <td>General Education</td>\n",
       "      <td>Not Applicable</td>\n",
       "    </tr>\n",
       "    <tr>\n",
       "      <th>106</th>\n",
       "      <td>Manhattan</td>\n",
       "      <td>Manhattan</td>\n",
       "      <td>6</td>\n",
       "      <td>06M552</td>\n",
       "      <td>Gregorio Luperon High School For Science And M...</td>\n",
       "      <td>High School</td>\n",
       "      <td>Transitional Bilingual Education</td>\n",
       "      <td>Spanish</td>\n",
       "      <td>Español</td>\n",
       "      <td>General Education</td>\n",
       "      <td>Not Applicable</td>\n",
       "    </tr>\n",
       "    <tr>\n",
       "      <th>217</th>\n",
       "      <td>Bronx</td>\n",
       "      <td>Bronx</td>\n",
       "      <td>12</td>\n",
       "      <td>12X195</td>\n",
       "      <td>P.S. 195</td>\n",
       "      <td>Elementary</td>\n",
       "      <td>Transitional Bilingual Education</td>\n",
       "      <td>Spanish</td>\n",
       "      <td>Español</td>\n",
       "      <td>General Education</td>\n",
       "      <td>Not Applicable</td>\n",
       "    </tr>\n",
       "  </tbody>\n",
       "</table>\n",
       "</div>"
      ],
      "text/plain": [
       "       Borough Borough/Citywide Office (B/CO)  District  School  \\\n",
       "237   Brooklyn                 Brooklyn North        14  14K050   \n",
       "221      Bronx                          Bronx        12  12X458   \n",
       "109      Bronx                          Bronx         7  07X018   \n",
       "106  Manhattan                      Manhattan         6  06M552   \n",
       "217      Bronx                          Bronx        12  12X195   \n",
       "\n",
       "                                           School Name  \\\n",
       "237                           J.H.S. 050 John D. Wells   \n",
       "221                            Samara Community School   \n",
       "109                         P.S. 018 John Peter Zenger   \n",
       "106  Gregorio Luperon High School For Science And M...   \n",
       "217                                           P.S. 195   \n",
       "\n",
       "                     School Category                           Program  \\\n",
       "237  Junior High-Intermediate-Middle                     Dual Language   \n",
       "221                       Elementary                     Dual Language   \n",
       "109                       Elementary                     Dual Language   \n",
       "106                      High School  Transitional Bilingual Education   \n",
       "217                       Elementary  Transitional Bilingual Education   \n",
       "\n",
       "    Language Language (Translated) General/Special Education  \\\n",
       "237  Spanish               Español         General Education   \n",
       "221  Spanish               Español         Special Education   \n",
       "109  Spanish               Español         General Education   \n",
       "106  Spanish               Español         General Education   \n",
       "217  Spanish               Español         General Education   \n",
       "\n",
       "    Special Education Model  \n",
       "237          Not Applicable  \n",
       "221                     ICT  \n",
       "109          Not Applicable  \n",
       "106          Not Applicable  \n",
       "217          Not Applicable  "
      ]
     },
     "execution_count": 101,
     "metadata": {},
     "output_type": "execute_result"
    }
   ],
   "source": [
    "# Capitalize the first letter of 'Borough' and 'School Category' Columns\n",
    "df['Borough'] = df['Borough'].str.title()\n",
    "df['School Category'] = df['School Category'].str.title()\n",
    "\n",
    "# Displaying 5 sample rows after data transformation\n",
    "df.sample(5)"
   ]
  },
  {
   "cell_type": "markdown",
   "metadata": {},
   "source": [
    "### Dropped Unnecessary Columns for Data\n",
    "The column 'Language (Translated)' is unnecessary for data analysis."
   ]
  },
  {
   "cell_type": "code",
   "execution_count": 102,
   "metadata": {},
   "outputs": [
    {
     "data": {
      "text/html": [
       "<div>\n",
       "<style scoped>\n",
       "    .dataframe tbody tr th:only-of-type {\n",
       "        vertical-align: middle;\n",
       "    }\n",
       "\n",
       "    .dataframe tbody tr th {\n",
       "        vertical-align: top;\n",
       "    }\n",
       "\n",
       "    .dataframe thead th {\n",
       "        text-align: right;\n",
       "    }\n",
       "</style>\n",
       "<table border=\"1\" class=\"dataframe\">\n",
       "  <thead>\n",
       "    <tr style=\"text-align: right;\">\n",
       "      <th></th>\n",
       "      <th>Borough</th>\n",
       "      <th>Borough/Citywide Office (B/CO)</th>\n",
       "      <th>District</th>\n",
       "      <th>School</th>\n",
       "      <th>School Name</th>\n",
       "      <th>School Category</th>\n",
       "      <th>Program</th>\n",
       "      <th>Language</th>\n",
       "      <th>General/Special Education</th>\n",
       "      <th>Special Education Model</th>\n",
       "    </tr>\n",
       "  </thead>\n",
       "  <tbody>\n",
       "    <tr>\n",
       "      <th>393</th>\n",
       "      <td>Queens</td>\n",
       "      <td>Queens North</td>\n",
       "      <td>24</td>\n",
       "      <td>24Q455</td>\n",
       "      <td>Newtown High School</td>\n",
       "      <td>High School</td>\n",
       "      <td>Transitional Bilingual Education</td>\n",
       "      <td>Spanish</td>\n",
       "      <td>General Education</td>\n",
       "      <td>Not Applicable</td>\n",
       "    </tr>\n",
       "    <tr>\n",
       "      <th>190</th>\n",
       "      <td>Bronx</td>\n",
       "      <td>Bronx</td>\n",
       "      <td>10</td>\n",
       "      <td>10X246</td>\n",
       "      <td>P.S. 246 Poe Center</td>\n",
       "      <td>Elementary</td>\n",
       "      <td>Transitional Bilingual Education</td>\n",
       "      <td>Spanish</td>\n",
       "      <td>General Education</td>\n",
       "      <td>Not Applicable</td>\n",
       "    </tr>\n",
       "    <tr>\n",
       "      <th>153</th>\n",
       "      <td>Bronx</td>\n",
       "      <td>Bronx</td>\n",
       "      <td>9</td>\n",
       "      <td>09X294</td>\n",
       "      <td>The Walton Avenue School</td>\n",
       "      <td>Elementary</td>\n",
       "      <td>Transitional Bilingual Education</td>\n",
       "      <td>Spanish</td>\n",
       "      <td>General Education</td>\n",
       "      <td>Not Applicable</td>\n",
       "    </tr>\n",
       "    <tr>\n",
       "      <th>488</th>\n",
       "      <td>Brooklyn</td>\n",
       "      <td>Brooklyn North</td>\n",
       "      <td>32</td>\n",
       "      <td>32K116</td>\n",
       "      <td>P.S. 116 Elizabeth L Farrell</td>\n",
       "      <td>Elementary</td>\n",
       "      <td>Dual Language</td>\n",
       "      <td>Spanish</td>\n",
       "      <td>General Education</td>\n",
       "      <td>Not Applicable</td>\n",
       "    </tr>\n",
       "    <tr>\n",
       "      <th>389</th>\n",
       "      <td>Queens</td>\n",
       "      <td>Queens North</td>\n",
       "      <td>24</td>\n",
       "      <td>24Q211</td>\n",
       "      <td>Elm Tree Elementary School</td>\n",
       "      <td>Elementary</td>\n",
       "      <td>Dual Language</td>\n",
       "      <td>Spanish</td>\n",
       "      <td>General Education</td>\n",
       "      <td>Not Applicable</td>\n",
       "    </tr>\n",
       "  </tbody>\n",
       "</table>\n",
       "</div>"
      ],
      "text/plain": [
       "      Borough Borough/Citywide Office (B/CO)  District  School  \\\n",
       "393    Queens                   Queens North        24  24Q455   \n",
       "190     Bronx                          Bronx        10  10X246   \n",
       "153     Bronx                          Bronx         9  09X294   \n",
       "488  Brooklyn                 Brooklyn North        32  32K116   \n",
       "389    Queens                   Queens North        24  24Q211   \n",
       "\n",
       "                      School Name School Category  \\\n",
       "393           Newtown High School     High School   \n",
       "190           P.S. 246 Poe Center      Elementary   \n",
       "153      The Walton Avenue School      Elementary   \n",
       "488  P.S. 116 Elizabeth L Farrell      Elementary   \n",
       "389    Elm Tree Elementary School      Elementary   \n",
       "\n",
       "                              Program Language General/Special Education  \\\n",
       "393  Transitional Bilingual Education  Spanish         General Education   \n",
       "190  Transitional Bilingual Education  Spanish         General Education   \n",
       "153  Transitional Bilingual Education  Spanish         General Education   \n",
       "488                     Dual Language  Spanish         General Education   \n",
       "389                     Dual Language  Spanish         General Education   \n",
       "\n",
       "    Special Education Model  \n",
       "393          Not Applicable  \n",
       "190          Not Applicable  \n",
       "153          Not Applicable  \n",
       "488          Not Applicable  \n",
       "389          Not Applicable  "
      ]
     },
     "execution_count": 102,
     "metadata": {},
     "output_type": "execute_result"
    }
   ],
   "source": [
    "df.drop(columns=['Language (Translated)'], inplace=True, errors='ignore')\n",
    "\n",
    "# Displaying 5 sample rows after data transformation\n",
    "df.sample(5)"
   ]
  },
  {
   "cell_type": "markdown",
   "metadata": {},
   "source": [
    "### Save the Cleaned Dataset as a New CSV File."
   ]
  },
  {
   "cell_type": "code",
   "execution_count": 103,
   "metadata": {},
   "outputs": [],
   "source": [
    "cleaned_file_path = './data/cleaned_rawdata.csv'\n",
    "df.to_csv(cleaned_file_path, index=False)"
   ]
  },
  {
   "cell_type": "markdown",
   "metadata": {},
   "source": [
    "## Data analysis\n",
    "Place your **data analysis** code and documentation within this section.\n",
    "- Perform at least 5 different statistical or other analyses of different aspects of the data.\n",
    "    - Your analyses must be specific and relevant to your chosen data set and show interesting aspects of it.\n",
    "    - Include at least one analysis that includes grouping rows by a shared attribute and performing some kind of statistical analysis on each group.\n",
    "    - Sort the data in at least 1 of your analyses, but sort on its own does not constitute an analysis on its own.\n",
    "- Keep each of your Code cells short and focused on a single task.\n",
    "- Include a Markdown cell above each Code cell that describes what task the code within the Code cell is performing.\n",
    "- Make as many code cells as you need to complete the analysis - a few have been created for you to start with."
   ]
  },
  {
   "cell_type": "markdown",
   "metadata": {},
   "source": [
    "### Distribution of Schools by Borough\n",
    "This analysis determines the count of schools in each borough, providing insights into the distribution across Manhattan, Brooklyn, Bronx, Queens, and Staten Island. Help to learn the number of bilingual schools in each region helps to understand the ethnic distribution and the level of education in terms of language in each region."
   ]
  },
  {
   "cell_type": "code",
   "execution_count": 104,
   "metadata": {},
   "outputs": [
    {
     "name": "stdout",
     "output_type": "stream",
     "text": [
      "Brooklyn         159\n",
      "Bronx            134\n",
      "Queens           121\n",
      "Manhattan        110\n",
      "Staten Island     14\n",
      "Name: Borough, dtype: int64\n"
     ]
    }
   ],
   "source": [
    "# Load the cleaned dataset\n",
    "df_cleaned = pd.read_csv('./data/cleaned_rawdata.csv')\n",
    "\n",
    "# Count of schools in each borough\n",
    "schools_by_borough = df_cleaned['Borough'].value_counts()\n",
    "print(schools_by_borough)"
   ]
  },
  {
   "cell_type": "markdown",
   "metadata": {},
   "source": [
    "### Distribution of Schools by School Category within Each Borough\n",
    "This analysis groups the data by borough and school category to determine the count of schools in each category for each borough."
   ]
  },
  {
   "cell_type": "code",
   "execution_count": 105,
   "metadata": {},
   "outputs": [
    {
     "name": "stdout",
     "output_type": "stream",
     "text": [
      "Borough        School Category                \n",
      "Bronx          Early Childhood                     1\n",
      "               Elementary                         65\n",
      "               High School                        11\n",
      "               Junior High-Intermediate-Middle    32\n",
      "               K-12 All Grades                     6\n",
      "               K-8                                12\n",
      "               Secondary School                    7\n",
      "Brooklyn       Early Childhood                     1\n",
      "               Elementary                         79\n",
      "               High School                        27\n",
      "               Junior High-Intermediate-Middle    25\n",
      "               K-12 All Grades                     8\n",
      "               K-8                                15\n",
      "               Secondary School                    4\n",
      "Manhattan      Early Childhood                     2\n",
      "               Elementary                         43\n",
      "               High School                        17\n",
      "               Junior High-Intermediate-Middle    22\n",
      "               K-12 All Grades                     2\n",
      "               K-8                                19\n",
      "               Secondary School                    4\n",
      "               Ungraded                            1\n",
      "Queens         Early Childhood                     7\n",
      "               Elementary                         74\n",
      "               High School                        17\n",
      "               Junior High-Intermediate-Middle    19\n",
      "               K-12 All Grades                     2\n",
      "               K-8                                 2\n",
      "Staten Island  Elementary                         11\n",
      "               High School                         1\n",
      "               Junior High-Intermediate-Middle     2\n",
      "Name: School Name, dtype: int64\n"
     ]
    }
   ],
   "source": [
    "# Group by 'Borough' and 'School Category' to find the distribution of schools\n",
    "schools_category_borough = df_cleaned.groupby(['Borough', 'School Category'])['School Name'].count()\n",
    "print(schools_category_borough)"
   ]
  },
  {
   "cell_type": "markdown",
   "metadata": {},
   "source": [
    "### Count of Schools Offering Dual Language Programs\n",
    "This analysis identifies the number of schools offering dual language programs, indicating the prevalence of bilingual education."
   ]
  },
  {
   "cell_type": "code",
   "execution_count": 106,
   "metadata": {},
   "outputs": [
    {
     "name": "stdout",
     "output_type": "stream",
     "text": [
      "Count of Schools Offering Dual Language Programs: 267\n"
     ]
    }
   ],
   "source": [
    "dual_schools = df_cleaned['Program'].str.contains(\"Dual Language\").sum()\n",
    "print(\"Count of Schools Offering Dual Language Programs:\", dual_schools)"
   ]
  },
  {
   "cell_type": "markdown",
   "metadata": {},
   "source": [
    "### Sort Schools by School Category and Count\n",
    "This analysis sorts the data by the 'School Category' column and counts the number of schools in each category, offering insights into the distribution of school types."
   ]
  },
  {
   "cell_type": "code",
   "execution_count": 107,
   "metadata": {},
   "outputs": [
    {
     "name": "stdout",
     "output_type": "stream",
     "text": [
      "Count of Schools by School Category (Sorted):\n",
      "Elementary                         272\n",
      "Junior High-Intermediate-Middle    100\n",
      "High School                         73\n",
      "K-8                                 48\n",
      "K-12 All Grades                     18\n",
      "Secondary School                    15\n",
      "Early Childhood                     11\n",
      "Ungraded                             1\n",
      "Name: School Category, dtype: int64\n"
     ]
    }
   ],
   "source": [
    "sorted_school = df_cleaned['School Category'].value_counts().sort_values(ascending=False)\n",
    "print(\"Count of Schools by School Category (Sorted):\",)\n",
    "print(sorted_school)"
   ]
  },
  {
   "cell_type": "markdown",
   "metadata": {},
   "source": [
    "### Statistical Analysis on Chinese Language Schools by Borough\n",
    "This analysis calculates values for the maximum, minimum, and average numbers of Chinese language schools, as well as which boroughs have the most and least, helping to learn which regions have the most and least bilingual Chinese-English usage."
   ]
  },
  {
   "cell_type": "code",
   "execution_count": 108,
   "metadata": {},
   "outputs": [
    {
     "name": "stdout",
     "output_type": "stream",
     "text": [
      "Max number of Chinese language schools: 29\n",
      "Borough with the most Chinese schools: Brooklyn\n",
      "Min number of Chinese language schools: 13\n",
      "Borough with the fewest Chinese schools: Manhattan\n",
      "Average number of Chinese language schools: 22.666666666666668\n"
     ]
    }
   ],
   "source": [
    "chinese_schools = df_cleaned[df_cleaned['Language'].str.contains(\"Chinese\")]\n",
    "\n",
    "# Group by 'Borough' to count Chinese language schools\n",
    "chinese_by_borough = chinese_schools.groupby('Borough')['School Name'].count()\n",
    "\n",
    "# Calculate max, min, and average\n",
    "chinese_max = chinese_by_borough.max()\n",
    "chinese_min = chinese_by_borough.min()\n",
    "chinese_avg = chinese_by_borough.mean()\n",
    "\n",
    "# Borough with max and min Chinese language schools\n",
    "borough_max = chinese_by_borough.idxmax()\n",
    "borough_min = chinese_by_borough.idxmin()\n",
    "\n",
    "print(\"Max number of Chinese language schools:\", chinese_max)\n",
    "print(\"Borough with the most Chinese schools:\", borough_max)\n",
    "print(\"Min number of Chinese language schools:\", chinese_min)\n",
    "print(\"Borough with the fewest Chinese schools:\", borough_min)\n",
    "print(\"Average number of Chinese language schools:\", chinese_avg)"
   ]
  },
  {
   "cell_type": "markdown",
   "metadata": {},
   "source": [
    "## Data visualization\n",
    "In this section, you will create a few **visualizations** that show some of the insights you have gathered from this data.\n",
    "- Create at least 5 different visualizations, where each visualization shows different insights into the data.\n",
    "- Use at least 3 different visualization types (e.g. bar charts, line charts, stacked area charts, pie charts, etc)\n",
    "- Create a Markdown cell and a Code cell for each, where you explain and show the visualizations, respectively.\n",
    "- Create as many additional cells as you need to prepare the data for the visualizations."
   ]
  },
  {
   "cell_type": "markdown",
   "metadata": {},
   "source": [
    "### Distribution of Schools by Borough\n",
    "This bar chart shows the distribution of schools in each borough."
   ]
  },
  {
   "cell_type": "code",
   "execution_count": 92,
   "metadata": {},
   "outputs": [
    {
     "data": {
      "image/png": "[encoded data removed]",
      "text/plain": [
       "<Figure size 432x288 with 1 Axes>"
      ]
     },
     "metadata": {
      "needs_background": "light"
     },
     "output_type": "display_data"
    }
   ],
   "source": [
    "schools_by_borough = df_cleaned['Borough'].value_counts()\n",
    "\n",
    "plt.bar(schools_by_borough.index, schools_by_borough.values)\n",
    "plt.xlabel(\"Borough\")\n",
    "plt.ylabel(\"Number of Schools\")\n",
    "plt.title(\"Distribution of Schools by Borough\")\n",
    "plt.show()"
   ]
  },
  {
   "cell_type": "markdown",
   "metadata": {},
   "source": [
    "### Distribution of Schools by School Category\n",
    "This pie chart represents the distribution of schools by category. It clearly shows that Bilingual elementary schools have the largest share, while bilingual colleges have only a 0.5% share."
   ]
  },
  {
   "cell_type": "code",
   "execution_count": 42,
   "metadata": {},
   "outputs": [
    {
     "data": {
      "image/png": "[encoded data removed]",
      "text/plain": [
       "<Figure size 504x504 with 1 Axes>"
      ]
     },
     "metadata": {},
     "output_type": "display_data"
    }
   ],
   "source": [
    "school_category_counts = df_cleaned['School Category'].value_counts()\n",
    "\n",
    "plt.figure(figsize=(7, 7), facecolor='white') \n",
    "plt.pie(\n",
    "    school_category_counts,\n",
    "    labels=school_category_counts.index,\n",
    "    autopct='%1f%%',\n",
    "    colors=plt.cm.Paired.colors[:len(school_category_counts)]\n",
    ")\n",
    "plt.title(\"Distribution of Schools by School Category\")\n",
    "plt.show()"
   ]
  },
  {
   "cell_type": "markdown",
   "metadata": {},
   "source": [
    "### Distribution of Districts (Histogram)\n",
    "This Histogram displays the frequency of district numbers within the dataset. It clearly shows the distribution of bilingual programs in each districts of the New York City, and it can be noticed that there is no bilingual programs in the 40-70 district range."
   ]
  },
  {
   "cell_type": "code",
   "execution_count": 56,
   "metadata": {},
   "outputs": [
    {
     "data": {
      "image/png": "[encoded data removed]",
      "text/plain": [
       "<Figure size 432x288 with 1 Axes>"
      ]
     },
     "metadata": {
      "needs_background": "light"
     },
     "output_type": "display_data"
    }
   ],
   "source": [
    "plt.hist(df_cleaned['District'], bins=20, color='skyblue', edgecolor='black')  \n",
    "plt.xlabel(\"District Number\")\n",
    "plt.ylabel(\"Frequency\")\n",
    "plt.title(\"Distribution of District Numbers\")\n",
    "plt.grid(True)\n",
    "plt.show()"
   ]
  },
  {
   "cell_type": "markdown",
   "metadata": {},
   "source": [
    "### Relation between Boroughs and Languages\n",
    "This bar chart illustrates the relationship between 'Borough' and 'Language', showing how many instances there are for each language by borough. The language use in each borough can be inferred from this bar chart."
   ]
  },
  {
   "cell_type": "code",
   "execution_count": 69,
   "metadata": {},
   "outputs": [
    {
     "data": {
      "image/png": "[encoded data removed]",
      "text/plain": [
       "<Figure size 864x576 with 1 Axes>"
      ]
     },
     "metadata": {
      "needs_background": "light"
     },
     "output_type": "display_data"
    }
   ],
   "source": [
    "language_count = df_cleaned.groupby(['Borough', 'Language']).size().reset_index(name='Count')\n",
    "\n",
    "plt.figure(figsize=(12, 8))\n",
    "for borough in language_count['Borough'].unique():\n",
    "    subset = language_count[language_count['Borough'] == borough]\n",
    "    plt.bar(subset['Language'], subset['Count'], label=borough)\n",
    "\n",
    "plt.title(\"Relation between 'Borough' and 'Language'\")\n",
    "plt.xlabel(\"Language\")\n",
    "plt.ylabel(\"Count\")\n",
    "plt.legend(title='Borough')\n",
    "plt.show()"
   ]
  },
  {
   "cell_type": "markdown",
   "metadata": {},
   "source": [
    "### Distribution of special education models\n",
    "This pie chart shows the distribution of special education models among the schools, indicating which models are more common in NYC."
   ]
  },
  {
   "cell_type": "code",
   "execution_count": 91,
   "metadata": {},
   "outputs": [
    {
     "data": {
      "image/png": "[encoded data removed]",
      "text/plain": [
       "<Figure size 576x576 with 1 Axes>"
      ]
     },
     "metadata": {},
     "output_type": "display_data"
    }
   ],
   "source": [
    "model_counts = df_cleaned['Special Education Model'].value_counts()\n",
    "\n",
    "plt.figure(figsize=(8, 8),facecolor='white')\n",
    "plt.pie(model_counts.values, labels=model_counts.index, autopct='%1.1f%%', colors=['skyblue', 'lightcoral', 'lightgreen','lightyellow','pink'])\n",
    "plt.title('Distribution of Special Education Models')\n",
    "plt.show()\n"
   ]
  }
 ],
 "metadata": {
  "kernelspec": {
   "display_name": "Python 3",
   "language": "python",
   "name": "python3"
  },
  "language_info": {
   "codemirror_mode": {
    "name": "ipython",
    "version": 3
   },
   "file_extension": ".py",
   "mimetype": "text/x-python",
   "name": "python",
   "nbconvert_exporter": "python",
   "pygments_lexer": "ipython3",
   "version": "3.8.5"
  }
 },
 "nbformat": 4,
 "nbformat_minor": 4
}
